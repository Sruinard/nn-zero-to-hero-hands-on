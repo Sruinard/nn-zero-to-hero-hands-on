{
 "cells": [
  {
   "cell_type": "markdown",
   "metadata": {},
   "source": [
    "# Exercises Andrej Karpathy Makemore\n",
    "\n",
    "E01: train a trigram language model, i.e. take two characters as an input to predict the 3rd one. Feel free to use either counting or a neural net. Evaluate the loss; Did it improve over a bigram model?"
   ]
  },
  {
   "cell_type": "code",
   "execution_count": 11,
   "metadata": {},
   "outputs": [
    {
     "data": {
      "text/plain": [
       "26"
      ]
     },
     "execution_count": 11,
     "metadata": {},
     "output_type": "execute_result"
    }
   ],
   "source": [
    "from pathlib import Path\n",
    "import torch\n",
    "\n",
    "with Path(\"./trigrams_names.txt\").open() as f:\n",
    "    names = f.read().splitlines()\n",
    "\n",
    "\n",
    "vocab = sorted(set([char for word in names for char in word]))\n",
    "stoi = {}\n",
    "\n",
    "print(f\"length of vocab = {len(vocab)}\")"
   ]
  },
  {
   "cell_type": "code",
   "execution_count": null,
   "metadata": {},
   "outputs": [],
   "source": [
    "# build vocab + start + stop\n",
    "\n",
    "# encode\n",
    "\n",
    "# forward pass\n",
    "\n",
    "# compute loss\n",
    "\n",
    "# backward pass"
   ]
  }
 ],
 "metadata": {
  "kernelspec": {
   "display_name": "nn-zero-to-hero-hands-on-HrEuTb0D-py3.11",
   "language": "python",
   "name": "python3"
  },
  "language_info": {
   "codemirror_mode": {
    "name": "ipython",
    "version": 3
   },
   "file_extension": ".py",
   "mimetype": "text/x-python",
   "name": "python",
   "nbconvert_exporter": "python",
   "pygments_lexer": "ipython3",
   "version": "3.11.8"
  }
 },
 "nbformat": 4,
 "nbformat_minor": 2
}
